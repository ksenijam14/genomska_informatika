{
  "nbformat": 4,
  "nbformat_minor": 0,
  "metadata": {
    "colab": {
      "provenance": []
    },
    "kernelspec": {
      "name": "python3",
      "display_name": "Python 3"
    },
    "language_info": {
      "name": "python"
    }
  },
  "cells": [
    {
      "cell_type": "code",
      "execution_count": 1,
      "metadata": {
        "colab": {
          "base_uri": "https://localhost:8080/"
        },
        "id": "N2uupl6Tu5ZC",
        "outputId": "976aa222-bfe2-4adc-db71-a11a7ffc1059"
      },
      "outputs": [
        {
          "output_type": "stream",
          "name": "stdout",
          "text": [
            "Looking in indexes: https://pypi.org/simple, https://us-python.pkg.dev/colab-wheels/public/simple/\n",
            "Collecting pysam\n",
            "  Downloading pysam-0.20.0-cp39-cp39-manylinux_2_24_x86_64.whl (15.6 MB)\n",
            "\u001b[2K     \u001b[90m━━━━━━━━━━━━━━━━━━━━━━━━━━━━━━━━━━━━━━━━\u001b[0m \u001b[32m15.6/15.6 MB\u001b[0m \u001b[31m39.3 MB/s\u001b[0m eta \u001b[36m0:00:00\u001b[0m\n",
            "\u001b[?25hInstalling collected packages: pysam\n",
            "Successfully installed pysam-0.20.0\n"
          ]
        }
      ],
      "source": [
        "!pip install pysam\n"
      ]
    },
    {
      "cell_type": "code",
      "source": [
        "import pysam\n",
        "\n",
        "file = pysam.AlignmentFile(\"/content/merged-tumor.bam\", \"rb\")\n",
        "\n",
        "#First part of the exercise\n",
        "check_first = False;\n",
        "firstRead = pysam.AlignedSegment;\n",
        "READS_TO_CHECK = 10;\n",
        "i = -1\n",
        "flags = [0 for i in range(READS_TO_CHECK)];\n",
        "\n",
        "for read in file.fetch(until_eof=True):\n",
        "  if check_first == False:\n",
        "    check_first = True\n",
        "    firstRead = read\n",
        "  if i!=-1:\n",
        "    flags[i] = read.flag\n",
        "  i+=1\n",
        "  if i == READS_TO_CHECK:\n",
        "    break  \n",
        "\n",
        "print(\"First read:\")\n",
        "print(firstRead);\n",
        "print(\"First read sequence: \", firstRead.query_sequence);\n",
        "print(\"First read query qualities: \", firstRead.query_qualities);\n",
        "print(\"First read flag: \", firstRead.flag);\n",
        "print(\"First read aligned pairs: \", firstRead.get_aligned_pairs());\n",
        "print(\"First read cigar: \", firstRead.cigarstring);\n",
        "print(\"First read mapping quality: \", firstRead.mapping_quality);\n",
        "print(\"First read is mapped: \", firstRead.is_mapped);\n",
        "print(\"First read is paired: \", firstRead.is_paired);\n",
        "\n",
        "print(\"Flags for some reads:\", flags)\n",
        "\n",
        "#Second part of the exercise\n",
        "num_unmapped = 0\n",
        "num_reads = 0\n",
        "num_quality_zero = 0\n",
        "avg_read = 0\n",
        "avg_read_without_zero = 0\n",
        "total_mapping_quality = 0\n",
        "total_map_quality_without_zero = 0\n",
        "\n",
        "for read in file.fetch(until_eof=True):\n",
        "  num_reads += 1\n",
        "  if read.is_unmapped == True:\n",
        "    num_unmapped += 1\n",
        "  if read.mapping_quality == 0:\n",
        "     num_quality_zero += 1\n",
        "  else:\n",
        "      total_map_quality_without_zero += read.mapping_quality\n",
        "  total_mapping_quality += read.mapping_quality\n",
        "  \n",
        "  \n",
        "file.close()\n",
        "print(\"\")\n",
        "print(\"\")\n",
        "print(\"Total number of reads is: \", num_reads)\n",
        "print(\"Total number of unmapped reads is: \", num_unmapped)\n",
        "print(\"Total number of reads with mapping quality zero is: \", num_quality_zero)\n",
        "\n",
        "avg_read = total_mapping_quality / num_reads\n",
        "print(\"Average mapping quality for all the reads is: \", avg_read)\n",
        "\n",
        "avg_read_without_zero = total_map_quality_without_zero / (num_reads - num_quality_zero)\n",
        "print(\"Average mapping quality, filtered the ones with 0 is: \", avg_read_without_zero)\n",
        "\n"
      ],
      "metadata": {
        "colab": {
          "base_uri": "https://localhost:8080/"
        },
        "id": "NQS2m0CVyshw",
        "outputId": "ce1d692d-6b5a-4e07-a2af-4a54be64c752"
      },
      "execution_count": 8,
      "outputs": [
        {
          "output_type": "stream",
          "name": "stdout",
          "text": [
            "First read:\n",
            "C0HVYACXX120402:7:1207:5722:57044\t1187\t#20\t9483249\t27\t76M\t#20\t9483382\t209\tTTTTCAAACAGTATCTATGCCTGCCAAATGTGAACATATAAAAAAAAACCAGAATGTGCCATTCTGATTTAAACTG\tarray('B', [28, 28, 27, 29, 31, 30, 31, 31, 29, 31, 35, 30, 29, 31, 34, 30, 29, 23, 41, 32, 20, 30, 29, 34, 34, 29, 30, 31, 30, 30, 30, 33, 33, 26, 39, 12, 25, 19, 32, 30, 35, 28, 35, 33, 23, 33, 35, 36, 30, 38, 33, 41, 34, 35, 31, 33, 23, 30, 30, 36, 27, 32, 29, 34, 35, 41, 33, 31, 33, 29, 32, 32, 31, 31, 31, 34])\t[('XA', 'GL000217.1,-110754,76M,1;'), ('BD', 'NNNNNNNNNNNNNNNNNNNNNNNNNNNNNNNNNNNNNNNNNNNNNNNNNNNNNNNNNNNNNNNNNNNNNNNNNNNN'), ('MD', '76'), ('RG', '1'), ('BI', 'NNNNNNNNNNNNNNNNNNNNNNNNNNNNNNNNNNNNNNNNNNNNNNNNNNNNNNNNNNNNNNNNNNNNNNNNNNNN'), ('NM', 0), ('MQ', 27), ('AS', 76), ('XS', 71)]\n",
            "First read sequence:  TTTTCAAACAGTATCTATGCCTGCCAAATGTGAACATATAAAAAAAAACCAGAATGTGCCATTCTGATTTAAACTG\n",
            "First read query qualities:  array('B', [28, 28, 27, 29, 31, 30, 31, 31, 29, 31, 35, 30, 29, 31, 34, 30, 29, 23, 41, 32, 20, 30, 29, 34, 34, 29, 30, 31, 30, 30, 30, 33, 33, 26, 39, 12, 25, 19, 32, 30, 35, 28, 35, 33, 23, 33, 35, 36, 30, 38, 33, 41, 34, 35, 31, 33, 23, 30, 30, 36, 27, 32, 29, 34, 35, 41, 33, 31, 33, 29, 32, 32, 31, 31, 31, 34])\n",
            "First read flag:  1187\n",
            "First read aligned pairs:  [(0, 9483248), (1, 9483249), (2, 9483250), (3, 9483251), (4, 9483252), (5, 9483253), (6, 9483254), (7, 9483255), (8, 9483256), (9, 9483257), (10, 9483258), (11, 9483259), (12, 9483260), (13, 9483261), (14, 9483262), (15, 9483263), (16, 9483264), (17, 9483265), (18, 9483266), (19, 9483267), (20, 9483268), (21, 9483269), (22, 9483270), (23, 9483271), (24, 9483272), (25, 9483273), (26, 9483274), (27, 9483275), (28, 9483276), (29, 9483277), (30, 9483278), (31, 9483279), (32, 9483280), (33, 9483281), (34, 9483282), (35, 9483283), (36, 9483284), (37, 9483285), (38, 9483286), (39, 9483287), (40, 9483288), (41, 9483289), (42, 9483290), (43, 9483291), (44, 9483292), (45, 9483293), (46, 9483294), (47, 9483295), (48, 9483296), (49, 9483297), (50, 9483298), (51, 9483299), (52, 9483300), (53, 9483301), (54, 9483302), (55, 9483303), (56, 9483304), (57, 9483305), (58, 9483306), (59, 9483307), (60, 9483308), (61, 9483309), (62, 9483310), (63, 9483311), (64, 9483312), (65, 9483313), (66, 9483314), (67, 9483315), (68, 9483316), (69, 9483317), (70, 9483318), (71, 9483319), (72, 9483320), (73, 9483321), (74, 9483322), (75, 9483323)]\n",
            "First read cigar:  76M\n",
            "First read mapping quality:  27\n",
            "First read is mapped:  True\n",
            "First read is paired:  True\n",
            "Flags for some reads: [163, 99, 99, 99, 163, 99, 1123, 99, 1123, 99]\n",
            "\n",
            "\n",
            "Total number of reads is:  2921618\n",
            "Total number of unmapped reads is:  17765\n",
            "Total number of reads with mapping quality zero is:  126628\n",
            "Average mapping quality for all the reads is:  55.91389223368695\n",
            "Average mapping quality, filtered the ones with 0 is:  58.44709068726543\n"
          ]
        }
      ]
    }
  ]
}